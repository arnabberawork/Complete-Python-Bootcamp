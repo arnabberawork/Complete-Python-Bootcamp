{
 "cells": [
  {
   "cell_type": "code",
   "execution_count": 15,
   "metadata": {},
   "outputs": [
    {
     "name": "stdout",
     "output_type": "stream",
     "text": [
      "2025-01-01 13:03:53.498497\n"
     ]
    }
   ],
   "source": [
    "import datetime\n",
    "print(datetime.datetime.now())"
   ]
  },
  {
   "cell_type": "code",
   "execution_count": 16,
   "metadata": {},
   "outputs": [
    {
     "name": "stdout",
     "output_type": "stream",
     "text": [
      "2025-01-01 13:03:53.500382\n",
      "2024-12-31 13:03:53.500382 2025-01-01 12:03:53.500382\n",
      "2025-01-01 16:33:53.500382+04:30 IST\n",
      "2025-01-01 16:33:53.500382+04:30 UTC+04:30\n"
     ]
    }
   ],
   "source": [
    "from datetime import datetime , time , timedelta , timezone\n",
    "print(datetime.now())\n",
    "print(datetime.now()-timedelta(days=1) , datetime.now()-timedelta(hours=1))\n",
    "print(f'{datetime.now(timezone(timedelta(hours=4.5)))} IST')\n",
    "time_ist=datetime.now(timezone(timedelta(hours=4.5)))\n",
    "print(f'{time_ist} {time_ist.tzinfo}')"
   ]
  },
  {
   "cell_type": "code",
   "execution_count": 17,
   "metadata": {},
   "outputs": [
    {
     "name": "stdout",
     "output_type": "stream",
     "text": [
      "array('B', [1, 2, 3, 4])\n"
     ]
    }
   ],
   "source": [
    "import array\n",
    "arr=array.array('B',[1,2,3,4])\n",
    "#arr=array.array('i',[1,2,3,4])\n",
    "print( arr )"
   ]
  },
  {
   "cell_type": "code",
   "execution_count": 18,
   "metadata": {},
   "outputs": [
    {
     "name": "stdout",
     "output_type": "stream",
     "text": [
      "1735733033.5175571\n",
      "-3600\n",
      "System timezone offset from UTC in seconds: -3600 seconds\n",
      "System timezone offset in hours: -1.0 hours\n"
     ]
    }
   ],
   "source": [
    "import time\n",
    "print(time.time())\n",
    "print(time.timezone)\n",
    "print(f\"System timezone offset from UTC in seconds: {time.timezone} seconds\")\n",
    "time.sleep(5)\n",
    "print(f\"System timezone offset in hours: {time.timezone / 3600} hours\")"
   ]
  },
  {
   "cell_type": "code",
   "execution_count": 19,
   "metadata": {},
   "outputs": [
    {
     "name": "stdout",
     "output_type": "stream",
     "text": [
      "Directory source_arnab already exists.\n"
     ]
    }
   ],
   "source": [
    "import os\n",
    "if os.path.exists('source_arnab'):\n",
    "    print(f\"Directory source_arnab already exists.\")\n",
    "else:\n",
    "    os.mkdir('source_arnab')"
   ]
  },
  {
   "cell_type": "code",
   "execution_count": 20,
   "metadata": {},
   "outputs": [],
   "source": [
    "os.makedirs('source_arnab',exist_ok=True)"
   ]
  },
  {
   "cell_type": "code",
   "execution_count": 21,
   "metadata": {},
   "outputs": [
    {
     "data": {
      "text/plain": [
       "'c:\\\\Arnab Learning\\\\AI_ML_DS\\\\GeminiAI_API\\\\Complete-Python-Bootcamp\\\\5-Modules'"
      ]
     },
     "execution_count": 21,
     "metadata": {},
     "output_type": "execute_result"
    }
   ],
   "source": [
    "os.getcwd()"
   ]
  },
  {
   "cell_type": "code",
   "execution_count": 22,
   "metadata": {},
   "outputs": [],
   "source": [
    "import csv\n",
    "with open('source_arnab\\\\file1.csv',mode='w+') as file :\n",
    "    writer=csv.writer(file)\n",
    "    writer.writerow('Name,Age')"
   ]
  },
  {
   "cell_type": "code",
   "execution_count": 23,
   "metadata": {},
   "outputs": [],
   "source": [
    "with open('source_arnab\\\\correct_file1.csv',mode='w',newline='\\n') as file :\n",
    "    writer=csv.writer(file)\n",
    "    writer.writerow(['Name','Tech'])\n",
    "    writer.writerow(['Arnab','AIML'])"
   ]
  },
  {
   "cell_type": "code",
   "execution_count": 25,
   "metadata": {},
   "outputs": [
    {
     "name": "stdout",
     "output_type": "stream",
     "text": [
      "exists\n",
      "removed\n"
     ]
    }
   ],
   "source": [
    "if os.path.exists('source_arnab\\\\correct_file2.csv'):\n",
    "    print(\"exists\")\n",
    "    os.remove('source_arnab\\\\correct_file2.csv')\n",
    "    print(\"removed\")\n",
    "else :\n",
    "    print(\"not exist\")\n",
    "os.rename('source_arnab\\\\file1.csv','source_arnab\\\\correct_file2.csv')"
   ]
  },
  {
   "cell_type": "code",
   "execution_count": 26,
   "metadata": {},
   "outputs": [],
   "source": [
    "with open('source_arnab\\\\correct_file2.csv',mode='w',newline='') as file:\n",
    "    writer=csv.writer(file)\n",
    "    writer.writerow(['Name','Age'])\n",
    "    writer.writerow(['Arnab',30])"
   ]
  },
  {
   "cell_type": "code",
   "execution_count": 27,
   "metadata": {},
   "outputs": [
    {
     "name": "stdout",
     "output_type": "stream",
     "text": [
      "[['Name', 'Tech'], ['Arnab', 'AIML']]\n"
     ]
    }
   ],
   "source": [
    "with open('source_arnab\\\\correct_file1.csv',mode='r',newline='') as file:\n",
    "    reader=csv.reader(file)\n",
    "    print([row for row in reader])"
   ]
  },
  {
   "cell_type": "code",
   "execution_count": 28,
   "metadata": {},
   "outputs": [
    {
     "data": {
      "text/plain": [
       "'source_arnab\\\\correct_file3.csv'"
      ]
     },
     "execution_count": 28,
     "metadata": {},
     "output_type": "execute_result"
    }
   ],
   "source": [
    "import shutil\n",
    "shutil.copy('source_arnab\\\\correct_file1.csv','source_arnab\\\\correct_file3.csv')"
   ]
  },
  {
   "cell_type": "code",
   "execution_count": 29,
   "metadata": {},
   "outputs": [
    {
     "name": "stdout",
     "output_type": "stream",
     "text": [
      "33\n",
      "0.6573035803923434\n",
      "88\n",
      "50\n",
      "64.84096244822882\n",
      "DS\n"
     ]
    }
   ],
   "source": [
    "import random\n",
    "print(random.randint(20,100))\n",
    "print(random.random())\n",
    "print(random.choice(range(20,100)))\n",
    "print(random.randrange(20,100))\n",
    "print(random.uniform(20,100))\n",
    "print(random.choice(['AI','ML','DS','DL','NLP']))\n"
   ]
  },
  {
   "cell_type": "code",
   "execution_count": 30,
   "metadata": {},
   "outputs": [
    {
     "name": "stdout",
     "output_type": "stream",
     "text": [
      "{\"Name\": \"Arnab\", \"Tech\": \"AI\", \"Age\": 30}\n",
      "<class 'str'>\n"
     ]
    }
   ],
   "source": [
    "import json\n",
    "dict1={\"Name\":\"Arnab\",\n",
    "       \"Tech\":\"AI\",\n",
    "       \"Age\":30\n",
    "       }\n",
    "print(json.dumps(dict1))\n",
    "print(type(json.dumps(dict1)))"
   ]
  },
  {
   "cell_type": "code",
   "execution_count": 31,
   "metadata": {},
   "outputs": [
    {
     "name": "stdout",
     "output_type": "stream",
     "text": [
      "{'Name': 'Arnab', 'Tech': 'AI', 'Age': 30}\n",
      "<class 'dict'>\n"
     ]
    }
   ],
   "source": [
    "print(json.loads(json.dumps(dict1)))\n",
    "print(type(json.loads(json.dumps(dict1))))"
   ]
  },
  {
   "cell_type": "markdown",
   "metadata": {},
   "source": [
    "### from JSON file"
   ]
  },
  {
   "cell_type": "code",
   "execution_count": 32,
   "metadata": {},
   "outputs": [],
   "source": [
    "with open(\"source_arnab\\\\json_file1.json\",mode='w') as file:\n",
    "    json.dump(dict1,file)"
   ]
  },
  {
   "cell_type": "code",
   "execution_count": 33,
   "metadata": {},
   "outputs": [
    {
     "name": "stdout",
     "output_type": "stream",
     "text": [
      "{'Name': 'Arnab', 'Tech': 'AI', 'Age': 30}\n",
      "<class 'dict'>\n"
     ]
    }
   ],
   "source": [
    "with open(\"source_arnab\\\\json_file1.json\",mode='r') as file:\n",
    "    out_file=json.load(file)\n",
    "print(out_file)\n",
    "print(type(out_file))"
   ]
  },
  {
   "cell_type": "markdown",
   "metadata": {},
   "source": [
    "### Regex"
   ]
  },
  {
   "cell_type": "code",
   "execution_count": 50,
   "metadata": {},
   "outputs": [
    {
     "name": "stdout",
     "output_type": "stream",
     "text": [
      "{\"Name\": \"Arnab\", \"Tech\": \"AI\", \"Age\": 30}\n",
      "No match\n"
     ]
    }
   ],
   "source": [
    "import re\n",
    "pattern=r'\\d+'\n",
    "json_str=json.dumps(dict1)\n",
    "print(json_str)\n",
    "match=re.match(pattern,json_str)\n",
    "if match:\n",
    "    print(match)\n",
    "else:\n",
    "    print(\"No match\")"
   ]
  },
  {
   "cell_type": "code",
   "execution_count": 51,
   "metadata": {},
   "outputs": [
    {
     "name": "stdout",
     "output_type": "stream",
     "text": [
      "['30']\n"
     ]
    }
   ],
   "source": [
    "matches = re.findall(pattern, json_string)\n",
    "if matches:\n",
    "    print(matches)\n",
    "else:\n",
    "    print(\"No match found.\")"
   ]
  },
  {
   "cell_type": "code",
   "execution_count": 57,
   "metadata": {},
   "outputs": [
    {
     "name": "stdout",
     "output_type": "stream",
     "text": [
      "123\n"
     ]
    }
   ],
   "source": [
    "text='There are 123 apples 456'\n",
    "matches = re.search(pattern, text)\n",
    "if matches:\n",
    "    print(matches.group())\n",
    "else:\n",
    "    print(\"No match found.\")"
   ]
  },
  {
   "cell_type": "code",
   "execution_count": null,
   "metadata": {},
   "outputs": [],
   "source": []
  }
 ],
 "metadata": {
  "kernelspec": {
   "display_name": "python312_env",
   "language": "python",
   "name": "python3"
  },
  "language_info": {
   "codemirror_mode": {
    "name": "ipython",
    "version": 3
   },
   "file_extension": ".py",
   "mimetype": "text/x-python",
   "name": "python",
   "nbconvert_exporter": "python",
   "pygments_lexer": "ipython3",
   "version": "3.12.8"
  }
 },
 "nbformat": 4,
 "nbformat_minor": 2
}
