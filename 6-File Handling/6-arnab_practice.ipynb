{
 "cells": [
  {
   "cell_type": "code",
   "execution_count": 19,
   "metadata": {},
   "outputs": [
    {
     "name": "stdout",
     "output_type": "stream",
     "text": [
      "Hello All,\n",
      "Good morning!!!\n",
      "This is Arnab from India.\n",
      "['Hello All,\\n', 'Good morning!!!\\n', 'This is Arnab from India.']\n"
     ]
    }
   ],
   "source": [
    "with open('example_arnab.txt','w') as file:\n",
    "    file.write(\"Hello All,\\n\")\n",
    "    file.write(\"Good morning!!!\\n\")\n",
    "    file.write(\"This is Arnab from India.\")\n",
    "\n",
    "with open('example_arnab.txt','r') as file:\n",
    "    content=file.read()\n",
    "print(content)\n",
    "\n",
    "with open('example_arnab.txt','r') as file:\n",
    "    lines=file.readlines()\n",
    "print(lines)"
   ]
  },
  {
   "cell_type": "code",
   "execution_count": 20,
   "metadata": {},
   "outputs": [
    {
     "name": "stdout",
     "output_type": "stream",
     "text": [
      "Hello All,\n",
      "Good morning!!!\n",
      "This is Arnab from India.\n",
      "['Hello All,\\n', 'Good morning!!!\\n', 'This is Arnab from India.']\n"
     ]
    }
   ],
   "source": [
    "with open('example1_arnab.txt','w') as file:\n",
    "    file.writelines(lines)\n",
    "\n",
    "with open('example_arnab.txt','r') as file:\n",
    "    content=file.read()\n",
    "print(content)\n",
    "\n",
    "with open('example_arnab.txt','r') as file:\n",
    "    lines=file.readlines()\n",
    "print(lines)"
   ]
  },
  {
   "cell_type": "code",
   "execution_count": 21,
   "metadata": {},
   "outputs": [
    {
     "name": "stdout",
     "output_type": "stream",
     "text": [
      "Hello All,\n",
      "Good morning!!!\n",
      "This is Arnab from India.\n",
      "['Hello All,\\n', 'Good morning!!!\\n', 'This is Arnab from India.']\n"
     ]
    }
   ],
   "source": [
    "with open('example1_arnab.txt','w+') as file:\n",
    "    file.writelines(lines)\n",
    "    file.seek(0)\n",
    "    content=file.read()\n",
    "    file.seek(0)\n",
    "    lines=file.readlines()\n",
    "print(content)\n",
    "print(lines)"
   ]
  },
  {
   "cell_type": "code",
   "execution_count": 32,
   "metadata": {},
   "outputs": [
    {
     "name": "stdout",
     "output_type": "stream",
     "text": [
      "['Hello All,\\n', 'Good morning!!!\\n', 'This is Arnab from India.']\n",
      "no of lines : ['Hello All,\\n', 'Good morning!!!\\n', 'This is Arnab from India.']\n",
      "No of words : 9\n",
      "No of chars : 52\n"
     ]
    }
   ],
   "source": [
    "with open('example1_arnab.txt','w+') as file:\n",
    "    file.writelines(lines)\n",
    "    file.seek(0)\n",
    "    lines=file.readlines()\n",
    "print(lines)\n",
    "\n",
    "print(f\"no of lines : {lines}\")\n",
    "\n",
    "wordcount_list=[len(line.split()) for line in lines]\n",
    "print(f\"No of words : {sum(wordcount_list)}\")\n",
    "\n",
    "charcount_list=[len(line) for line in lines]\n",
    "print(f\"No of chars : {sum(charcount_list)}\")"
   ]
  },
  {
   "cell_type": "code",
   "execution_count": 36,
   "metadata": {},
   "outputs": [
    {
     "name": "stdout",
     "output_type": "stream",
     "text": [
      "b'Hello All,\\nGood morning!!!\\nThis is Arnab from India.'\n",
      "[b'Hello All,\\n', b'Good morning!!!\\n', b'This is Arnab from India.']\n"
     ]
    }
   ],
   "source": [
    "with open('example_arnab.bin','wb') as file:\n",
    "    file.write(\"Hello All,\\n\".encode())\n",
    "    file.write(\"Good morning!!!\\n\".encode())\n",
    "    file.write(\"This is Arnab from India.\".encode())\n",
    "\n",
    "with open('example_arnab.bin','rb') as file:\n",
    "    content=file.read()\n",
    "print(content)\n",
    "\n",
    "with open('example_arnab.bin','rb') as file:\n",
    "    lines=file.readlines()\n",
    "print(lines)"
   ]
  },
  {
   "cell_type": "code",
   "execution_count": 38,
   "metadata": {},
   "outputs": [
    {
     "name": "stdout",
     "output_type": "stream",
     "text": [
      "c:\\Arnab Learning\\AI_ML_DS\\GeminiAI_API\\Complete-Python-Bootcamp\\6-File Handling\n"
     ]
    }
   ],
   "source": [
    "import os\n",
    "print(os.getcwd())"
   ]
  },
  {
   "cell_type": "code",
   "execution_count": 42,
   "metadata": {},
   "outputs": [
    {
     "name": "stdout",
     "output_type": "stream",
     "text": [
      "path-c:\\Arnab Learning\\AI_ML_DS\\GeminiAI_API\\Complete-Python-Bootcamp\\6-File Handling, exists-True\n",
      "path-c:\\Arnab Learning\\AI_ML_DS\\GeminiAI_API\\Complete-Python-Bootcamp\\6-File Handling\\test_arnab_dir, exists-False\n",
      "path-c:\\Arnab Learning\\AI_ML_DS\\GeminiAI_API\\Complete-Python-Bootcamp\\6-File Handling\\test_arnab_dir\\file.txt, exists-False\n"
     ]
    }
   ],
   "source": [
    "cwd=os.getcwd()\n",
    "dir_name=\"test_arnab_dir\"\n",
    "file_name=\"file.txt\"\n",
    "print(f\"path-{cwd}, exists-{os.path.exists(cwd)}\")\n",
    "dir_path=os.path.join(cwd,dir_name)\n",
    "print(f\"path-{dir_path}, exists-{os.path.exists(dir_path)}\")\n",
    "file_path=os.path.join(cwd,dir_name,file_name)\n",
    "print(f\"path-{file_path}, exists-{os.path.exists(file_path)}\")"
   ]
  },
  {
   "cell_type": "code",
   "execution_count": 43,
   "metadata": {},
   "outputs": [],
   "source": [
    "if os.path.exists(dir_path):\n",
    "    print(\"already exist\")\n",
    "else:\n",
    "    os.mkdir(dir_path)"
   ]
  },
  {
   "cell_type": "code",
   "execution_count": 44,
   "metadata": {},
   "outputs": [
    {
     "data": {
      "text/plain": [
       "'c:\\\\Arnab Learning\\\\AI_ML_DS\\\\GeminiAI_API\\\\Complete-Python-Bootcamp\\\\6-File Handling\\\\test_arnab_dir\\\\file.txt'"
      ]
     },
     "execution_count": 44,
     "metadata": {},
     "output_type": "execute_result"
    }
   ],
   "source": [
    "import shutil\n",
    "shutil.copy(\"example1_arnab.txt\",file_path)"
   ]
  },
  {
   "cell_type": "code",
   "execution_count": 46,
   "metadata": {},
   "outputs": [
    {
     "name": "stdout",
     "output_type": "stream",
     "text": [
      "['6-arnab_practice.ipynb', '6.1-fileoperation.ipynb', '6.2-filepath.ipynb', 'destination.txt', 'example.bin', 'example.txt', 'example1_arnab.txt', 'example_arnab.bin', 'example_arnab.txt', 'test_arnab_dir']\n"
     ]
    }
   ],
   "source": [
    "print(os.listdir())"
   ]
  },
  {
   "cell_type": "code",
   "execution_count": 47,
   "metadata": {},
   "outputs": [
    {
     "name": "stdout",
     "output_type": "stream",
     "text": [
      "['file.txt']\n"
     ]
    }
   ],
   "source": [
    "print(os.listdir(dir_path))"
   ]
  },
  {
   "cell_type": "code",
   "execution_count": 48,
   "metadata": {},
   "outputs": [
    {
     "name": "stdout",
     "output_type": "stream",
     "text": [
      "Hello All,\n",
      "Good morning!!!\n",
      "This is Arnab from India.\n"
     ]
    }
   ],
   "source": [
    "with open(file_path,mode='r',newline='') as file:\n",
    "    print(file.read())"
   ]
  },
  {
   "cell_type": "code",
   "execution_count": 51,
   "metadata": {},
   "outputs": [
    {
     "name": "stdout",
     "output_type": "stream",
     "text": [
      "c:\\Arnab Learning\\AI_ML_DS\\GeminiAI_API\\Complete-Python-Bootcamp\\6-File Handling\\file.txt\n",
      "C:\\Arnab Learning\\AI_ML_DS\\GeminiAI_API\\Complete-Python-Bootcamp\\6-File Handling\\file.txt\n",
      "file.txt\n"
     ]
    }
   ],
   "source": [
    "print(os.path.abspath(file_name))\n",
    "print(os.path.realpath(file_name))\n",
    "print(os.path.relpath(file_name))"
   ]
  },
  {
   "cell_type": "code",
   "execution_count": 53,
   "metadata": {},
   "outputs": [
    {
     "name": "stdout",
     "output_type": "stream",
     "text": [
      "True\n",
      "True\n",
      "False\n",
      "False\n",
      "True\n",
      "False\n"
     ]
    }
   ],
   "source": [
    "print(os.path.isdir(cwd)) \n",
    "print(os.path.isdir(dir_path))\n",
    "print(os.path.isdir(file_path))\n",
    "\n",
    "print(os.path.isfile(file_name))\n",
    "print(os.path.isfile(file_path))\n",
    "print(os.path.isfile(dir_path))"
   ]
  },
  {
   "cell_type": "code",
   "execution_count": null,
   "metadata": {},
   "outputs": [],
   "source": []
  }
 ],
 "metadata": {
  "kernelspec": {
   "display_name": "python312_env",
   "language": "python",
   "name": "python3"
  },
  "language_info": {
   "codemirror_mode": {
    "name": "ipython",
    "version": 3
   },
   "file_extension": ".py",
   "mimetype": "text/x-python",
   "name": "python",
   "nbconvert_exporter": "python",
   "pygments_lexer": "ipython3",
   "version": "3.12.8"
  }
 },
 "nbformat": 4,
 "nbformat_minor": 2
}
